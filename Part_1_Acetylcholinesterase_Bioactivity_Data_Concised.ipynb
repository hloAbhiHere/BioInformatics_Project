{
 "cells": [
  {
   "cell_type": "markdown",
   "metadata": {},
   "source": [
    "Bioinformatics Project - Computational Drug Discovery [Part 1]\n",
    "In this Jupyter notebook, we will be building a real-life data science project.\n",
    "Particularly, we will be building a machine learning model using the ChEMBL bioactivity data.\n",
    "In Part 1, we will be performing Data Collection and Pre-Processing from the ChEMBL Database."
   ]
  },
  {
   "cell_type": "code",
   "execution_count": 2,
   "metadata": {},
   "outputs": [
    {
     "name": "stdout",
     "output_type": "stream",
     "text": [
      "Requirement already satisfied: chembl_webresource_client in c:\\users\\prajit\\appdata\\local\\programs\\python\\python312\\lib\\site-packages (0.10.9)\n",
      "Requirement already satisfied: urllib3 in c:\\users\\prajit\\appdata\\local\\programs\\python\\python312\\lib\\site-packages (from chembl_webresource_client) (2.1.0)\n",
      "Requirement already satisfied: requests>=2.18.4 in c:\\users\\prajit\\appdata\\local\\programs\\python\\python312\\lib\\site-packages (from chembl_webresource_client) (2.31.0)\n",
      "Requirement already satisfied: requests-cache~=1.2 in c:\\users\\prajit\\appdata\\local\\programs\\python\\python312\\lib\\site-packages (from chembl_webresource_client) (1.2.1)\n",
      "Requirement already satisfied: easydict in c:\\users\\prajit\\appdata\\local\\programs\\python\\python312\\lib\\site-packages (from chembl_webresource_client) (1.13)\n",
      "Requirement already satisfied: charset-normalizer<4,>=2 in c:\\users\\prajit\\appdata\\local\\programs\\python\\python312\\lib\\site-packages (from requests>=2.18.4->chembl_webresource_client) (3.3.2)\n",
      "Requirement already satisfied: idna<4,>=2.5 in c:\\users\\prajit\\appdata\\local\\programs\\python\\python312\\lib\\site-packages (from requests>=2.18.4->chembl_webresource_client) (3.6)\n",
      "Requirement already satisfied: certifi>=2017.4.17 in c:\\users\\prajit\\appdata\\local\\programs\\python\\python312\\lib\\site-packages (from requests>=2.18.4->chembl_webresource_client) (2023.11.17)\n",
      "Requirement already satisfied: attrs>=21.2 in c:\\users\\prajit\\appdata\\local\\programs\\python\\python312\\lib\\site-packages (from requests-cache~=1.2->chembl_webresource_client) (23.1.0)\n",
      "Requirement already satisfied: cattrs>=22.2 in c:\\users\\prajit\\appdata\\local\\programs\\python\\python312\\lib\\site-packages (from requests-cache~=1.2->chembl_webresource_client) (24.1.2)\n",
      "Requirement already satisfied: platformdirs>=2.5 in c:\\users\\prajit\\appdata\\local\\programs\\python\\python312\\lib\\site-packages (from requests-cache~=1.2->chembl_webresource_client) (4.1.0)\n",
      "Requirement already satisfied: url-normalize>=1.4 in c:\\users\\prajit\\appdata\\local\\programs\\python\\python312\\lib\\site-packages (from requests-cache~=1.2->chembl_webresource_client) (1.4.3)\n",
      "Requirement already satisfied: six in c:\\users\\prajit\\appdata\\local\\programs\\python\\python312\\lib\\site-packages (from url-normalize>=1.4->requests-cache~=1.2->chembl_webresource_client) (1.16.0)\n"
     ]
    },
    {
     "name": "stderr",
     "output_type": "stream",
     "text": [
      "\n",
      "[notice] A new release of pip is available: 23.3.1 -> 24.2\n",
      "[notice] To update, run: python.exe -m pip install --upgrade pip\n"
     ]
    }
   ],
   "source": [
    "! pip install chembl_webresource_client"
   ]
  },
  {
   "cell_type": "markdown",
   "metadata": {},
   "source": [
    "Import Libraries"
   ]
  },
  {
   "cell_type": "code",
   "execution_count": 3,
   "metadata": {},
   "outputs": [
    {
     "ename": "Exception",
     "evalue": "Error getting schema from url https://www.ebi.ac.uk/chembl/api/data/spore with status 500 and msg <!doctype html>\n<html lang=\"en\" class=\"vf-no-js\">\n  <head>\n    <script>\n// Detect if JS is on and swap vf-no-js for vf-js on the html element\n(function(H){H.className=H.className.replace(/\\bvf-no-js\\b/,'vf-js')})(document.documentElement);\n</script>\n\n    <meta charset=\"utf-8\">\n    <meta name=\"viewport\" content=\"width=device-width, initial-scale=1.0\">\n    <!-- <link rel=\"stylesheet\" media=\"all\" href=\"/css/styles.css?\" /> -->\n    <title>Error: 500 | EMBLâs European Bionformatics Institute</title>\n\n\n\n    <link rel=\"icon\" type=\"image/x-icon\"\n  href=\"https://ebi.emblstatic.net/web_guidelines/EBI-Framework/v1.4/images/logos/EMBL-EBI/favicons/favicon.ico\" />\n<link rel=\"icon\" type=\"image/png\"\n  href=\"https://ebi.emblstatic.net/web_guidelines/EBI-Framework/v1.4/images/logos/EMBL-EBI/favicons/favicon-32x32.png\" />\n<link rel=\"icon\" type=\"image/png\" sizes=\"192Ã192\"\n  href=\"https://ebi.emblstatic.net/web_guidelines/EBI-Framework/v1.4/images/logos/EMBL-EBI/favicons/android-chrome-192x192.png\" />\n<!-- Android (192px) -->\n<link rel=\"apple-touch-icon-precomposed\" sizes=\"114x114\"\n  href=\"https://ebi.emblstatic.net/web_guidelines/EBI-Framework/v1.4/images/logos/EMBL-EBI/favicons/apple-icon-114x114.png\" />\n<!-- For iPhone 4 Retina display (114px) -->\n<link rel=\"apple-touch-icon-precomposed\" sizes=\"72x72\"\n  href=\"https://ebi.emblstatic.net/web_guidelines/EBI-Framework/v1.4/images/logos/EMBL-EBI/favicons/apple-icon-72x72.png\" />\n<!-- For iPad (72px) -->\n<link rel=\"apple-touch-icon-precomposed\" sizes=\"144x144\"\n  href=\"https://ebi.emblstatic.net/web_guidelines/EBI-Framework/v1.4/images/logos/EMBL-EBI/favicons/apple-icon-144x144.png\" />\n<!-- For iPad retinat (144px) -->\n<link rel=\"apple-touch-icon-precomposed\"\n  href=\"https://ebi.emblstatic.net/web_guidelines/EBI-Framework/v1.4/images/logos/EMBL-EBI/favicons/apple-icon-57x57.png\" />\n<!-- For iPhone (57px) -->\n<link rel=\"mask-icon\"\n  href=\"https://ebi.emblstatic.net/web_guidelines/EBI-Framework/v1.4/images/logos/EMBL-EBI/favicons/safari-pinned-tab.svg\"\n  color=\"#ffffff\" /> <!-- Safari icon for pinned tab -->\n<meta name=\"msapplication-TileColor\" content=\"#2b5797\" /> <!-- MS Icons -->\n<meta name=\"msapplication-TileImage\"\n  content=\"https://ebi.emblstatic.net/web_guidelines/EBI-Framework/v1.4/images/logos/EMBL-EBI/favicons/mstile-144x144.png\" />\n\n\n\n\n\n\n    <!-- Search indexing optimisations -->\n    <meta class=\"swiftype\" name=\"what\" data-type=\"string\" content=\"none\" />\n    <meta class=\"swiftype\" name=\"where\" data-type=\"string\" content=\"EMBL-EBI\" />\n\n\n    <!-- Descriptive meta -->\n    <meta name=\"title\" content=\"Error: 500\">\n    <meta name=\"author\" content=\"European Bioinformatics Institute\">\n    <meta name=\"robots\" content=\"index, follow\">\n    <meta name=\"keywords\" content=\"\">\n    <meta name=\"description\" content=\"\">\n\n    <!-- Open Graph / Facebook -->\n    <meta property=\"og:type\" content=\"website\">\n    <meta property=\"og:url\" content=\"https://www.ebi.ac.uk/info/error-pages/500-standalone/\">\n    <meta property=\"og:title\" content=\"Error: 500\">\n    <meta property=\"og:description\" content=\"\">\n\n\n    <!-- Twitter -->\n    <meta property=\"twitter:card\" content=\"summary_large_image\">\n    <meta property=\"og:url\" content=\"https://www.ebi.ac.uk/info/error-pages/500-standalone/\">\n    <meta property=\"twitter:title\" content=\"Error: 500\">\n    <meta property=\"twitter:description\" content=\"\">\n\n\n    <!-- Content descriptors -->\n    <meta name=\"embl:who\" content=\"EMBL-EBI Web Dev\">\n    <meta name=\"embl:where\" content=\"EMBL-EBI\">\n    <meta name=\"embl:what\" content=\"none\">\n    <meta name=\"embl:active\" content=\"where\">\n\n    <!-- Content role -->\n    <meta name=\"embl:utility\" content=\"10\">\n    <meta name=\"embl:reach\" content=\"0\">\n\n    <!-- Page infromation -->\n    <meta name=\"embl:maintainer\" content=\"EMBL-EBI Web Dev\">\n    <meta name=\"embl:last-review\" content=\"2021.04.01\">\n    <meta name=\"embl:review-cycle\" content=\"365\">\n    <meta name=\"embl:expiry\" content=\"never\">\n\n    <!-- analytics -->\n    <meta name=\"vf:page-type\" content=\"404;dimension1\">\n\n    <!-- CSS only -->\n<link rel=\"stylesheet\" href=\"https://assets.emblstatic.net/vf/v2.5.7/css/styles.css\">\n<!-- JS -->\n<script src=\"https://assets.emblstatic.net/vf/v2.5.7/scripts/scripts.js\"></script>\n<head>\n  <body class=\"vf-body vf-stack vf-stack--400\">\n    <style>head, title, link, meta, style, script {--vf-stack-margin--custom: 0; }</style>\n\n    <!-- See the EBI Header Footer docs: https://stable.visual-framework.dev/components/ebi-header-footer -->\n\n    <link rel=\"stylesheet\" href=\"https://assets.emblstatic.net/vf/v2.4.5/assets/ebi-header-footer/ebi-header-footer.css\" type=\"text/css\" media=\"all\">\n    <header id=\"masthead-black-bar\" class=\"clearfix masthead-black-bar | ebi-header-footer vf-content vf-u-fullbleed\"></header>\n\n\n\n\n<style>\n  .embl-grid {\n    margin-bottom: 48px;\n  }\n</style>\n\n<section class=\"vf-intro\" id=\"500\">\n\n  <div><!-- empty --></div>\n\n  <div class=\"vf-stack\">\n\n  <h1 class=\"vf-intro__heading \">Error: 500</h1>\n<p class=\"vf-lede\">There was a technical error.</p>\n\n\n<p class=\"vf-intro__text\">Something has gone wrong with our web server when attempting to make this page.</p><p class=\"vf-intro__text\">Unfortunately, the service you are trying to access is currently unavailable. <br>Please try again later.</p>\n  </div>\n</section>\n\n\n<section class=\"embl-grid embl-grid--has-centered-content\">\n  <div></div>\n <section>\n      <form id=\"ebi_search\" action=\"/ebisearch/search.ebi\" class=\"vf-form vf-form--search vf-form--search--mini | vf-sidebar vf-sidebar--end\">\n        <div class=\"vf-sidebar__inner\" style=\"flex-wrap: nowrap;\">\n          <div class=\"vf-form__item\">\n            <label class=\"vf-form__label vf-u-sr-only | vf-search__label\" for=\"searchitem\">Search</label>\n            <input name=\"query\" type=\"search\" placeholder=\"Find a gene, protein or chemical\" id=\"searchitem\" class=\"vf-form__input\" required=\"\" spellcheck=\"false\" data-ms-editor=\"true\">\n            <input name=\"requestFrom\" id=\"requestFrom\" type=\"hidden\" class=\"vf-form__input\" value=\"ebi_index\">\n          </div>\n          <div class=\"vf-form__item\">\n            <select name=\"db\" id=\"db\" tabindex=\"1\" class=\"vf-form__select\" style=\"max-width: 150px\">\n              <option value=\"allebi\">All</option>\n              <optgroup label=\"Science search\">\n                <option value=\"genomes\">Genomes &amp; metagenomes</option>\n                <option value=\"nucleotideSequences\">Nucleotide sequences</option>\n                <option value=\"proteinSequences\">Protein sequences</option>\n                <option value=\"smallMolecules\">Small molecules</option>\n                <option value=\"geneExpression\">Gene expression</option>\n                <option value=\"geneDiseaseAssociations\">Gene-Disease Associations</option>\n                <option value=\"diseases\">Diseases</option>\n                <option value=\"molecularInteractions\">Molecular interactions</option>\n                <option value=\"reactionsPathways\">Reactions &amp; pathways</option>\n                <option value=\"proteinFamilies\">Protein families</option>\n                <option value=\"literature\">Literature</option>\n                <option value=\"ontologies\">Samples &amp; ontologies</option>\n              </optgroup>\n              <optgroup label=\"Search web content\">\n                <option value=\"ebiweb_people\">EMBL-EBI People</option>\n                <option value=\"ebiweb\">EMBL-EBI web</option>\n                <!-- <option value=\"ebiweb\">EMBL web</option> -->\n              </optgroup>\n            </select>\n          </div>\n\n\n          <button type=\"submit\" class=\"vf-search__button | vf-button vf-button--primary\">\n            <span class=\"vf-button__text\">Search</span>\n          </button>\n        </div>\n      </form>\n      <p class=\"vf-text-body--5 vf-u-margin__bottom--0\">\n        Example searches: <a class=\"vf-link\" href=\"/ebisearch/search.ebi?db=allebi&amp;requestFrom=ebi_index&amp;query=blast\">blast</a>\n        <a class=\"vf-link\" href=\"/ebisearch/search.ebi?db=allebi&amp;query=keratin&amp;requestFrom=ebi_index\">keratin</a>\n        <a class=\"vf-link\" href=\"/ebisearch/search.ebi?db=allebi&amp;query=bfl1&amp;requestFrom=ebi_index\">bfl1</a>\n        | <a class=\"vf-link\" href=\"https://www.ebi.ac.uk/ebisearch/overview.ebi/about\">About EBI Search</a>\n      </p>\n    </section>\n</section>\n\n<section class=\"embl-grid\">\n  <div></div>\n  <div class=\"vf-content\">\n    <h3>Need assistance?</h3>\n    <a class=\"vf-button vf-button--primary\" href=\"https://www.ebi.ac.uk/support/error\">Contact our support team</a>\n  </div>\n</section>\n\n    <!-- embl global footer -->\n\n\n<!-- embl-ebi global footer -->\n<link rel=\"import\" href=\"https://www.embl.org/api/v1/pattern.html?filter-content-type=article&filter-id=106902&pattern=node-body&source=contenthub\" data-target=\"self\" data-embl-js-content-hub-loader>\n\n    <script src=\"https://assets.emblstatic.net/vf/v2.4.9/scripts/scripts.js\"></script>\n<!--\n  When using legacy EBI 1.x JS, we disable the old cookie banner.\n  https://stable.visual-framework.dev/components/ebi-header-footer/\n  -->\n<div class=\"vf-u-display-none\" data-protection-message-disable=\"true\"></div>\n\n<!-- IE11 polyfill JS -->\n<script nomodule crossorigin=\"anonymous\" src=\"https://polyfill.io/v3/polyfill.min.js?flags=gated&features=default\"></script>\n<!-- <script src=\"/scripts/scripts.js?\"></script> -->\n<script defer=\"defer\" src=\"https://ebi.emblstatic.net/web_guidelines/EBI-Framework/v1.4/js/script.js\"></script>\n<link rel=\"stylesheet\" href=\"//ebi.emblstatic.net/web_guidelines/EBI-Icon-fonts/v1.3/fonts.css\" type=\"text/css\" media=\"all\" />\n\n<!-- Google Analytics -->\n<script>\nwindow.ga=window.ga||function(){(ga.q=ga.q||[]).push(arguments)};ga.l=+new Date;\nga('create', 'UA-629242-1', 'auto');\n</script>\n<script async src='https://www.google-analytics.com/analytics.js'></script>\n<!-- End Google Analytics -->\n\n<script type=\"text/javascript\">\n  document.addEventListener(\"DOMContentLoaded\", function(event) {\n\n        //- Code to execute when only the HTML document is loaded.\n        //- This doesn't wait for stylesheets,\n        // images, and subframes to finish loading.\n  });\n</script>\n\n  </body>\n</html>\n",
     "output_type": "error",
     "traceback": [
      "\u001b[1;31m---------------------------------------------------------------------------\u001b[0m",
      "\u001b[1;31mException\u001b[0m                                 Traceback (most recent call last)",
      "Cell \u001b[1;32mIn[3], line 3\u001b[0m\n\u001b[0;32m      1\u001b[0m \u001b[38;5;66;03m# Import necessary libraries\u001b[39;00m\n\u001b[0;32m      2\u001b[0m \u001b[38;5;28;01mimport\u001b[39;00m \u001b[38;5;21;01mpandas\u001b[39;00m \u001b[38;5;28;01mas\u001b[39;00m \u001b[38;5;21;01mpd\u001b[39;00m\n\u001b[1;32m----> 3\u001b[0m \u001b[38;5;28;01mfrom\u001b[39;00m \u001b[38;5;21;01mchembl_webresource_client\u001b[39;00m\u001b[38;5;21;01m.\u001b[39;00m\u001b[38;5;21;01mnew_client\u001b[39;00m \u001b[38;5;28;01mimport\u001b[39;00m new_client\n",
      "File \u001b[1;32mc:\\Users\\Prajit\\AppData\\Local\\Programs\\Python\\Python312\\Lib\\site-packages\\chembl_webresource_client\\new_client.py:65\u001b[0m\n\u001b[0;32m     60\u001b[0m     \u001b[38;5;28;01mreturn\u001b[39;00m client\n\u001b[0;32m     63\u001b[0m \u001b[38;5;66;03m#-----------------------------------------------------------------------------------------------------------------------\u001b[39;00m\n\u001b[1;32m---> 65\u001b[0m new_client \u001b[38;5;241m=\u001b[39m \u001b[43mclient_from_url\u001b[49m\u001b[43m(\u001b[49m\u001b[43mSettings\u001b[49m\u001b[38;5;241;43m.\u001b[39;49m\u001b[43mInstance\u001b[49m\u001b[43m(\u001b[49m\u001b[43m)\u001b[49m\u001b[38;5;241;43m.\u001b[39;49m\u001b[43mNEW_CLIENT_URL\u001b[49m\u001b[43m \u001b[49m\u001b[38;5;241;43m+\u001b[39;49m\u001b[43m \u001b[49m\u001b[38;5;124;43m'\u001b[39;49m\u001b[38;5;124;43m/spore\u001b[39;49m\u001b[38;5;124;43m'\u001b[39;49m\u001b[43m)\u001b[49m\n\u001b[0;32m     67\u001b[0m \u001b[38;5;66;03m#-----------------------------------------------------------------------------------------------------------------------\u001b[39;00m\n",
      "File \u001b[1;32mc:\\Users\\Prajit\\AppData\\Local\\Programs\\Python\\Python312\\Lib\\site-packages\\chembl_webresource_client\\new_client.py:27\u001b[0m, in \u001b[0;36mclient_from_url\u001b[1;34m(url, base_url)\u001b[0m\n\u001b[0;32m     25\u001b[0m res \u001b[38;5;241m=\u001b[39m requests\u001b[38;5;241m.\u001b[39mget(url)\n\u001b[0;32m     26\u001b[0m \u001b[38;5;28;01mif\u001b[39;00m \u001b[38;5;129;01mnot\u001b[39;00m res\u001b[38;5;241m.\u001b[39mok:\n\u001b[1;32m---> 27\u001b[0m     \u001b[38;5;28;01mraise\u001b[39;00m \u001b[38;5;167;01mException\u001b[39;00m(\u001b[38;5;124m'\u001b[39m\u001b[38;5;124mError getting schema from url \u001b[39m\u001b[38;5;132;01m{0}\u001b[39;00m\u001b[38;5;124m with status \u001b[39m\u001b[38;5;132;01m{1}\u001b[39;00m\u001b[38;5;124m and msg \u001b[39m\u001b[38;5;132;01m{2}\u001b[39;00m\u001b[38;5;124m'\u001b[39m\u001b[38;5;241m.\u001b[39mformat(url, res\u001b[38;5;241m.\u001b[39mstatus_code, res\u001b[38;5;241m.\u001b[39mtext))\n\u001b[0;32m     28\u001b[0m schema \u001b[38;5;241m=\u001b[39m res\u001b[38;5;241m.\u001b[39mjson()\n\u001b[0;32m     29\u001b[0m \u001b[38;5;28;01mif\u001b[39;00m \u001b[38;5;124m'\u001b[39m\u001b[38;5;124mbase_url\u001b[39m\u001b[38;5;124m'\u001b[39m \u001b[38;5;129;01mnot\u001b[39;00m \u001b[38;5;129;01min\u001b[39;00m schema:\n",
      "\u001b[1;31mException\u001b[0m: Error getting schema from url https://www.ebi.ac.uk/chembl/api/data/spore with status 500 and msg <!doctype html>\n<html lang=\"en\" class=\"vf-no-js\">\n  <head>\n    <script>\n// Detect if JS is on and swap vf-no-js for vf-js on the html element\n(function(H){H.className=H.className.replace(/\\bvf-no-js\\b/,'vf-js')})(document.documentElement);\n</script>\n\n    <meta charset=\"utf-8\">\n    <meta name=\"viewport\" content=\"width=device-width, initial-scale=1.0\">\n    <!-- <link rel=\"stylesheet\" media=\"all\" href=\"/css/styles.css?\" /> -->\n    <title>Error: 500 | EMBLâs European Bionformatics Institute</title>\n\n\n\n    <link rel=\"icon\" type=\"image/x-icon\"\n  href=\"https://ebi.emblstatic.net/web_guidelines/EBI-Framework/v1.4/images/logos/EMBL-EBI/favicons/favicon.ico\" />\n<link rel=\"icon\" type=\"image/png\"\n  href=\"https://ebi.emblstatic.net/web_guidelines/EBI-Framework/v1.4/images/logos/EMBL-EBI/favicons/favicon-32x32.png\" />\n<link rel=\"icon\" type=\"image/png\" sizes=\"192Ã192\"\n  href=\"https://ebi.emblstatic.net/web_guidelines/EBI-Framework/v1.4/images/logos/EMBL-EBI/favicons/android-chrome-192x192.png\" />\n<!-- Android (192px) -->\n<link rel=\"apple-touch-icon-precomposed\" sizes=\"114x114\"\n  href=\"https://ebi.emblstatic.net/web_guidelines/EBI-Framework/v1.4/images/logos/EMBL-EBI/favicons/apple-icon-114x114.png\" />\n<!-- For iPhone 4 Retina display (114px) -->\n<link rel=\"apple-touch-icon-precomposed\" sizes=\"72x72\"\n  href=\"https://ebi.emblstatic.net/web_guidelines/EBI-Framework/v1.4/images/logos/EMBL-EBI/favicons/apple-icon-72x72.png\" />\n<!-- For iPad (72px) -->\n<link rel=\"apple-touch-icon-precomposed\" sizes=\"144x144\"\n  href=\"https://ebi.emblstatic.net/web_guidelines/EBI-Framework/v1.4/images/logos/EMBL-EBI/favicons/apple-icon-144x144.png\" />\n<!-- For iPad retinat (144px) -->\n<link rel=\"apple-touch-icon-precomposed\"\n  href=\"https://ebi.emblstatic.net/web_guidelines/EBI-Framework/v1.4/images/logos/EMBL-EBI/favicons/apple-icon-57x57.png\" />\n<!-- For iPhone (57px) -->\n<link rel=\"mask-icon\"\n  href=\"https://ebi.emblstatic.net/web_guidelines/EBI-Framework/v1.4/images/logos/EMBL-EBI/favicons/safari-pinned-tab.svg\"\n  color=\"#ffffff\" /> <!-- Safari icon for pinned tab -->\n<meta name=\"msapplication-TileColor\" content=\"#2b5797\" /> <!-- MS Icons -->\n<meta name=\"msapplication-TileImage\"\n  content=\"https://ebi.emblstatic.net/web_guidelines/EBI-Framework/v1.4/images/logos/EMBL-EBI/favicons/mstile-144x144.png\" />\n\n\n\n\n\n\n    <!-- Search indexing optimisations -->\n    <meta class=\"swiftype\" name=\"what\" data-type=\"string\" content=\"none\" />\n    <meta class=\"swiftype\" name=\"where\" data-type=\"string\" content=\"EMBL-EBI\" />\n\n\n    <!-- Descriptive meta -->\n    <meta name=\"title\" content=\"Error: 500\">\n    <meta name=\"author\" content=\"European Bioinformatics Institute\">\n    <meta name=\"robots\" content=\"index, follow\">\n    <meta name=\"keywords\" content=\"\">\n    <meta name=\"description\" content=\"\">\n\n    <!-- Open Graph / Facebook -->\n    <meta property=\"og:type\" content=\"website\">\n    <meta property=\"og:url\" content=\"https://www.ebi.ac.uk/info/error-pages/500-standalone/\">\n    <meta property=\"og:title\" content=\"Error: 500\">\n    <meta property=\"og:description\" content=\"\">\n\n\n    <!-- Twitter -->\n    <meta property=\"twitter:card\" content=\"summary_large_image\">\n    <meta property=\"og:url\" content=\"https://www.ebi.ac.uk/info/error-pages/500-standalone/\">\n    <meta property=\"twitter:title\" content=\"Error: 500\">\n    <meta property=\"twitter:description\" content=\"\">\n\n\n    <!-- Content descriptors -->\n    <meta name=\"embl:who\" content=\"EMBL-EBI Web Dev\">\n    <meta name=\"embl:where\" content=\"EMBL-EBI\">\n    <meta name=\"embl:what\" content=\"none\">\n    <meta name=\"embl:active\" content=\"where\">\n\n    <!-- Content role -->\n    <meta name=\"embl:utility\" content=\"10\">\n    <meta name=\"embl:reach\" content=\"0\">\n\n    <!-- Page infromation -->\n    <meta name=\"embl:maintainer\" content=\"EMBL-EBI Web Dev\">\n    <meta name=\"embl:last-review\" content=\"2021.04.01\">\n    <meta name=\"embl:review-cycle\" content=\"365\">\n    <meta name=\"embl:expiry\" content=\"never\">\n\n    <!-- analytics -->\n    <meta name=\"vf:page-type\" content=\"404;dimension1\">\n\n    <!-- CSS only -->\n<link rel=\"stylesheet\" href=\"https://assets.emblstatic.net/vf/v2.5.7/css/styles.css\">\n<!-- JS -->\n<script src=\"https://assets.emblstatic.net/vf/v2.5.7/scripts/scripts.js\"></script>\n<head>\n  <body class=\"vf-body vf-stack vf-stack--400\">\n    <style>head, title, link, meta, style, script {--vf-stack-margin--custom: 0; }</style>\n\n    <!-- See the EBI Header Footer docs: https://stable.visual-framework.dev/components/ebi-header-footer -->\n\n    <link rel=\"stylesheet\" href=\"https://assets.emblstatic.net/vf/v2.4.5/assets/ebi-header-footer/ebi-header-footer.css\" type=\"text/css\" media=\"all\">\n    <header id=\"masthead-black-bar\" class=\"clearfix masthead-black-bar | ebi-header-footer vf-content vf-u-fullbleed\"></header>\n\n\n\n\n<style>\n  .embl-grid {\n    margin-bottom: 48px;\n  }\n</style>\n\n<section class=\"vf-intro\" id=\"500\">\n\n  <div><!-- empty --></div>\n\n  <div class=\"vf-stack\">\n\n  <h1 class=\"vf-intro__heading \">Error: 500</h1>\n<p class=\"vf-lede\">There was a technical error.</p>\n\n\n<p class=\"vf-intro__text\">Something has gone wrong with our web server when attempting to make this page.</p><p class=\"vf-intro__text\">Unfortunately, the service you are trying to access is currently unavailable. <br>Please try again later.</p>\n  </div>\n</section>\n\n\n<section class=\"embl-grid embl-grid--has-centered-content\">\n  <div></div>\n <section>\n      <form id=\"ebi_search\" action=\"/ebisearch/search.ebi\" class=\"vf-form vf-form--search vf-form--search--mini | vf-sidebar vf-sidebar--end\">\n        <div class=\"vf-sidebar__inner\" style=\"flex-wrap: nowrap;\">\n          <div class=\"vf-form__item\">\n            <label class=\"vf-form__label vf-u-sr-only | vf-search__label\" for=\"searchitem\">Search</label>\n            <input name=\"query\" type=\"search\" placeholder=\"Find a gene, protein or chemical\" id=\"searchitem\" class=\"vf-form__input\" required=\"\" spellcheck=\"false\" data-ms-editor=\"true\">\n            <input name=\"requestFrom\" id=\"requestFrom\" type=\"hidden\" class=\"vf-form__input\" value=\"ebi_index\">\n          </div>\n          <div class=\"vf-form__item\">\n            <select name=\"db\" id=\"db\" tabindex=\"1\" class=\"vf-form__select\" style=\"max-width: 150px\">\n              <option value=\"allebi\">All</option>\n              <optgroup label=\"Science search\">\n                <option value=\"genomes\">Genomes &amp; metagenomes</option>\n                <option value=\"nucleotideSequences\">Nucleotide sequences</option>\n                <option value=\"proteinSequences\">Protein sequences</option>\n                <option value=\"smallMolecules\">Small molecules</option>\n                <option value=\"geneExpression\">Gene expression</option>\n                <option value=\"geneDiseaseAssociations\">Gene-Disease Associations</option>\n                <option value=\"diseases\">Diseases</option>\n                <option value=\"molecularInteractions\">Molecular interactions</option>\n                <option value=\"reactionsPathways\">Reactions &amp; pathways</option>\n                <option value=\"proteinFamilies\">Protein families</option>\n                <option value=\"literature\">Literature</option>\n                <option value=\"ontologies\">Samples &amp; ontologies</option>\n              </optgroup>\n              <optgroup label=\"Search web content\">\n                <option value=\"ebiweb_people\">EMBL-EBI People</option>\n                <option value=\"ebiweb\">EMBL-EBI web</option>\n                <!-- <option value=\"ebiweb\">EMBL web</option> -->\n              </optgroup>\n            </select>\n          </div>\n\n\n          <button type=\"submit\" class=\"vf-search__button | vf-button vf-button--primary\">\n            <span class=\"vf-button__text\">Search</span>\n          </button>\n        </div>\n      </form>\n      <p class=\"vf-text-body--5 vf-u-margin__bottom--0\">\n        Example searches: <a class=\"vf-link\" href=\"/ebisearch/search.ebi?db=allebi&amp;requestFrom=ebi_index&amp;query=blast\">blast</a>\n        <a class=\"vf-link\" href=\"/ebisearch/search.ebi?db=allebi&amp;query=keratin&amp;requestFrom=ebi_index\">keratin</a>\n        <a class=\"vf-link\" href=\"/ebisearch/search.ebi?db=allebi&amp;query=bfl1&amp;requestFrom=ebi_index\">bfl1</a>\n        | <a class=\"vf-link\" href=\"https://www.ebi.ac.uk/ebisearch/overview.ebi/about\">About EBI Search</a>\n      </p>\n    </section>\n</section>\n\n<section class=\"embl-grid\">\n  <div></div>\n  <div class=\"vf-content\">\n    <h3>Need assistance?</h3>\n    <a class=\"vf-button vf-button--primary\" href=\"https://www.ebi.ac.uk/support/error\">Contact our support team</a>\n  </div>\n</section>\n\n    <!-- embl global footer -->\n\n\n<!-- embl-ebi global footer -->\n<link rel=\"import\" href=\"https://www.embl.org/api/v1/pattern.html?filter-content-type=article&filter-id=106902&pattern=node-body&source=contenthub\" data-target=\"self\" data-embl-js-content-hub-loader>\n\n    <script src=\"https://assets.emblstatic.net/vf/v2.4.9/scripts/scripts.js\"></script>\n<!--\n  When using legacy EBI 1.x JS, we disable the old cookie banner.\n  https://stable.visual-framework.dev/components/ebi-header-footer/\n  -->\n<div class=\"vf-u-display-none\" data-protection-message-disable=\"true\"></div>\n\n<!-- IE11 polyfill JS -->\n<script nomodule crossorigin=\"anonymous\" src=\"https://polyfill.io/v3/polyfill.min.js?flags=gated&features=default\"></script>\n<!-- <script src=\"/scripts/scripts.js?\"></script> -->\n<script defer=\"defer\" src=\"https://ebi.emblstatic.net/web_guidelines/EBI-Framework/v1.4/js/script.js\"></script>\n<link rel=\"stylesheet\" href=\"//ebi.emblstatic.net/web_guidelines/EBI-Icon-fonts/v1.3/fonts.css\" type=\"text/css\" media=\"all\" />\n\n<!-- Google Analytics -->\n<script>\nwindow.ga=window.ga||function(){(ga.q=ga.q||[]).push(arguments)};ga.l=+new Date;\nga('create', 'UA-629242-1', 'auto');\n</script>\n<script async src='https://www.google-analytics.com/analytics.js'></script>\n<!-- End Google Analytics -->\n\n<script type=\"text/javascript\">\n  document.addEventListener(\"DOMContentLoaded\", function(event) {\n\n        //- Code to execute when only the HTML document is loaded.\n        //- This doesn't wait for stylesheets,\n        // images, and subframes to finish loading.\n  });\n</script>\n\n  </body>\n</html>\n"
     ]
    }
   ],
   "source": [
    "# Import necessary libraries\n",
    "import pandas as pd\n",
    "from chembl_webresource_client.new_client import new_client"
   ]
  },
  {
   "cell_type": "markdown",
   "metadata": {},
   "source": [
    "Search for Target protein\n",
    "Target search for Acetylcholinesterase"
   ]
  },
  {
   "cell_type": "code",
   "execution_count": 1,
   "metadata": {},
   "outputs": [
    {
     "ename": "NameError",
     "evalue": "name 'new_client' is not defined",
     "output_type": "error",
     "traceback": [
      "\u001b[1;31m---------------------------------------------------------------------------\u001b[0m",
      "\u001b[1;31mNameError\u001b[0m                                 Traceback (most recent call last)",
      "Cell \u001b[1;32mIn[1], line 2\u001b[0m\n\u001b[0;32m      1\u001b[0m \u001b[38;5;66;03m# Target search for coronavirus\u001b[39;00m\n\u001b[1;32m----> 2\u001b[0m target \u001b[38;5;241m=\u001b[39m \u001b[43mnew_client\u001b[49m\u001b[38;5;241m.\u001b[39mtarget\n\u001b[0;32m      3\u001b[0m target_query \u001b[38;5;241m=\u001b[39m target\u001b[38;5;241m.\u001b[39msearch(\u001b[38;5;124m'\u001b[39m\u001b[38;5;124macetylcholinesterase\u001b[39m\u001b[38;5;124m'\u001b[39m)\n\u001b[0;32m      4\u001b[0m targets \u001b[38;5;241m=\u001b[39m pd\u001b[38;5;241m.\u001b[39mDataFrame\u001b[38;5;241m.\u001b[39mfrom_dict(target_query)\n",
      "\u001b[1;31mNameError\u001b[0m: name 'new_client' is not defined"
     ]
    }
   ],
   "source": [
    "# Target search for coronavirus\n",
    "target = new_client.target\n",
    "target_query = target.search('acetylcholinesterase')\n",
    "targets = pd.DataFrame.from_dict(target_query)\n",
    "targets\n",
    "     "
   ]
  },
  {
   "cell_type": "markdown",
   "metadata": {},
   "source": [
    "Select and retrieve bioactivity data for Human Acetylcholinesterase (first entry)\n",
    "We will assign the fifth entry (which corresponds to the target protein, Human Acetylcholinesterase) to the selected_target variable"
   ]
  },
  {
   "cell_type": "code",
   "execution_count": null,
   "metadata": {},
   "outputs": [],
   "source": [
    "selected_target = targets.target_chembl_id[0]\n",
    "selected_target"
   ]
  },
  {
   "cell_type": "code",
   "execution_count": null,
   "metadata": {},
   "outputs": [],
   "source": [
    "activity = new_client.activity\n",
    "res = activity.filter(target_chembl_id=selected_target).filter(standard_type=\"IC50\")"
   ]
  },
  {
   "cell_type": "code",
   "execution_count": null,
   "metadata": {},
   "outputs": [],
   "source": [
    "df = pd.DataFrame.from_dict(res)\n",
    "df"
   ]
  },
  {
   "cell_type": "code",
   "execution_count": null,
   "metadata": {},
   "outputs": [],
   "source": [
    "df.to_csv('acetylcholinesterase_01_bioactivity_data_raw.csv', index=False)"
   ]
  },
  {
   "cell_type": "markdown",
   "metadata": {},
   "source": [
    "Handling missing data\n",
    "If any compounds has missing value for the standard_value and canonical_smiles column then drop it."
   ]
  },
  {
   "cell_type": "code",
   "execution_count": null,
   "metadata": {},
   "outputs": [],
   "source": [
    "df2 = df[df.standard_value.notna()]\n",
    "df2 = df2[df.canonical_smiles.notna()]\n",
    "df2"
   ]
  },
  {
   "cell_type": "code",
   "execution_count": null,
   "metadata": {},
   "outputs": [],
   "source": [
    "len(df2.canonical_smiles.unique())"
   ]
  },
  {
   "cell_type": "code",
   "execution_count": null,
   "metadata": {},
   "outputs": [],
   "source": [
    "df2_nr = df2.drop_duplicates(['canonical_smiles'])\n",
    "df2_nr"
   ]
  },
  {
   "cell_type": "markdown",
   "metadata": {},
   "source": [
    "Data pre-processing of the bioactivity data\n",
    "Combine the 3 columns (molecule_chembl_id,canonical_smiles,standard_value) and bioactivity_class into a DataFrame"
   ]
  },
  {
   "cell_type": "code",
   "execution_count": null,
   "metadata": {},
   "outputs": [],
   "source": [
    "selection = ['molecule_chembl_id','canonical_smiles','standard_value']\n",
    "df3 = df2_nr[selection]\n",
    "df3"
   ]
  },
  {
   "cell_type": "code",
   "execution_count": null,
   "metadata": {},
   "outputs": [],
   "source": [
    "df3.to_csv('acetylcholinesterase_02_bioactivity_data_preprocessed.csv', index=False)"
   ]
  },
  {
   "cell_type": "markdown",
   "metadata": {},
   "source": [
    "Labeling compounds as either being active, inactive or intermediate\n",
    "The bioactivity data is in the IC50 unit. Compounds having values of less than 1000 nM will be considered to be active while those greater than 10,000 nM will be considered to be inactive. As for those values in between 1,000 and 10,000 nM will be referred to as intermediate."
   ]
  },
  {
   "cell_type": "code",
   "execution_count": null,
   "metadata": {},
   "outputs": [],
   "source": [
    "df4 = pd.read_csv('acetylcholinesterase_02_bioactivity_data_preprocessed.csv')"
   ]
  },
  {
   "cell_type": "code",
   "execution_count": null,
   "metadata": {},
   "outputs": [],
   "source": [
    "bioactivity_threshold = []\n",
    "for i in df4.standard_value:\n",
    "  if float(i) >= 10000:\n",
    "    bioactivity_threshold.append(\"inactive\")\n",
    "  elif float(i) <= 1000:\n",
    "    bioactivity_threshold.append(\"active\")\n",
    "  else:\n",
    "    bioactivity_threshold.append(\"intermediate\")"
   ]
  },
  {
   "cell_type": "code",
   "execution_count": null,
   "metadata": {},
   "outputs": [],
   "source": [
    "bioactivity_class = pd.Series(bioactivity_threshold, name='class')\n",
    "df5 = pd.concat([df4, bioactivity_class], axis=1)\n",
    "df5"
   ]
  },
  {
   "cell_type": "code",
   "execution_count": null,
   "metadata": {},
   "outputs": [],
   "source": [
    "df5.to_csv('acetylcholinesterase_03_bioactivity_data_curated.csv', index=False)"
   ]
  },
  {
   "cell_type": "code",
   "execution_count": null,
   "metadata": {},
   "outputs": [],
   "source": [
    "! zip acetylcholinesterase.zip *.csv"
   ]
  },
  {
   "cell_type": "code",
   "execution_count": null,
   "metadata": {},
   "outputs": [],
   "source": [
    "! ls -l"
   ]
  }
 ],
 "metadata": {
  "kernelspec": {
   "display_name": "Python 3",
   "language": "python",
   "name": "python3"
  },
  "language_info": {
   "codemirror_mode": {
    "name": "ipython",
    "version": 3
   },
   "file_extension": ".py",
   "mimetype": "text/x-python",
   "name": "python",
   "nbconvert_exporter": "python",
   "pygments_lexer": "ipython3",
   "version": "3.12.1"
  }
 },
 "nbformat": 4,
 "nbformat_minor": 2
}
